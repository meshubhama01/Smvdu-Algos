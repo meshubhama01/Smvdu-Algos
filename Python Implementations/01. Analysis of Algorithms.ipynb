{
 "cells": [
  {
   "cell_type": "markdown",
   "metadata": {},
   "source": [
    "## Analysis of Algorithms | Set 1 (Asymptotic Analysis)\n",
    "Why performance analysis?\n",
    "There are many important things that should be taken care of, like user friendliness, modularity, security, maintainability, etc. Why to worry about performance? \n",
    "The answer to this is simple, we can have all the above things only if we have performance. So performance is like currency through which we can buy all the above things. Another reason for studying performance is – speed is fun!\n",
    "To summarize, performance == scale. Imagine a text editor that can load 1000 pages, but can spell check 1 page per minute OR an image editor that takes 1 hour to rotate your image 90 degrees left OR … you get it. If a software feature can not cope with the scale of tasks users need to perform – it is as good as dead.\n",
    "\n",
    "\n",
    "Given two algorithms for a task, how do we find out which one is better?\n",
    "One naive way of doing this is – implement both the algorithms and run the two programs on your computer for different inputs and see which one takes less time. There are many problems with this approach for analysis of algorithms.\n",
    "1) It might be possible that for some inputs, first algorithm performs better than the second. And for some inputs second performs better.\n",
    "2) It might also be possible that for some inputs, first algorithm perform better on one machine and the second works better on other machine for some other inputs.\n",
    "\n",
    "Asymptotic Analysis is the big idea that handles above issues in analyzing algorithms. In Asymptotic Analysis, we evaluate the performance of an algorithm in terms of input size (we don’t measure the actual running time). We calculate, how does the time (or space) taken by an algorithm increases with the input size.\n",
    "For example, let us consider the search problem (searching a given item) in a sorted array. One way to search is Linear Search (order of growth is linear) and other way is Binary Search (order of growth is logarithmic). To understand how Asymptotic Analysis solves the above mentioned problems in analyzing algorithms, let us say we run the Linear Search on a fast computer and Binary Search on a slow computer. For small values of input array size n, the fast computer may take less time. But, after certain value of input array size, the Binary Search will definitely start taking less time compared to the Linear Search even though the Binary Search is being run on a slow machine. The reason is the order of growth of Binary Search with respect to input size logarithmic while the order of growth of Linear Search is linear. So the machine dependent constants can always be ignored after certain values of input size.\n",
    "\n",
    "Does Asymptotic Analysis always work?\n",
    "Asymptotic Analysis is not perfect, but that’s the best way available for analyzing algorithms. For example, say there are two sorting algorithms that take 1000nLogn and 2nLogn time respectively on a machine. Both of these algorithms are asymptotically same (order of growth is nLogn). So, With Asymptotic Analysis, we can’t judge which one is better as we ignore constants in Asymptotic Analysis.\n",
    "\n",
    "Also, in Asymptotic analysis, we always talk about input sizes larger than a constant value. It might be possible that those large inputs are never given to your software and an algorithm which is asymptotically slower, always performs better for your particular situation. So, you may end up choosing an algorithm that is Asymptotically slower but faster for your software.\n",
    "\n",
    "\n",
    "References:\n",
    "http://www.youtube.com/watch?v=JPyuH4qXLZ0\n",
    "Please write comments if you find anything incorrect, or you want to share more information about the topic discussed above."
   ]
  },
  {
   "cell_type": "markdown",
   "metadata": {},
   "source": [
    "## Analysis of Algorithms | Set 2 (Worst, Average and Best Cases)\n",
    "In the previous post, we discussed how Asymptotic analysis overcomes the problems of naive way of analyzing algorithms. In this post, we will take an example of Linear Search and analyze it using Asymptotic analysis.\n",
    "\n",
    "We can have three cases to analyze an algorithm:\n",
    "1) Worst Case\n",
    "2) Average Case\n",
    "3) Best Case\n",
    "\n",
    "Let us consider the following implementation of Linear Search."
   ]
  },
  {
   "cell_type": "code",
   "execution_count": 1,
   "metadata": {},
   "outputs": [
    {
     "name": "stdout",
     "output_type": "stream",
     "text": [
      "30 is present at index 2\n"
     ]
    }
   ],
   "source": [
    "# Python 3 implementation of the approach \n",
    "  \n",
    "# Linearly search x in arr[]. If x is present  \n",
    "# then return the index, otherwise return -1 \n",
    "def search(arr, n, x): \n",
    "    i = 0\n",
    "    for i in range(i, n): \n",
    "        if (arr[i] == x): \n",
    "            return i \n",
    "    return -1\n",
    "  \n",
    "# Driver Code \n",
    "arr = [1, 10, 30, 15] \n",
    "x = 30\n",
    "n = len(arr) \n",
    "print(x, \"is present at index\", \n",
    "             search(arr, n, x)) "
   ]
  },
  {
   "cell_type": "markdown",
   "metadata": {},
   "source": [
    "Worst Case Analysis (Usually Done)\n",
    "\n",
    "In the worst case analysis, we calculate upper bound on running time of an algorithm. We must know the case that causes maximum number of operations to be executed. For Linear Search, the worst case happens when the element to be searched (x in the above code) is not present in the array. When x is not present, the search() functions compares it with all the elements of arr[] one by one. Therefore, the worst case time complexity of linear search would be Θ(n).\n",
    "\n",
    "Average Case Analysis (Sometimes done)\n",
    "\n",
    "In average case analysis, we take all possible inputs and calculate computing time for all of the inputs. Sum all the calculated values and divide the sum by total number of inputs. We must know (or predict) distribution of cases. For the linear search problem, let us assume that all cases are uniformly distributed (including the case of x not being present in array). So we sum all the cases and divide the sum by (n+1). Following is the value of average case time complexity.\n",
    "\n",
    "Average Case Time = <img src=\"https://www.geeksforgeeks.org/wp-content/uploads/analysis1.png\">\n",
    "                    <img src=\"https://www.geeksforgeeks.org/wp-content/uploads/analysis2.png\">\n",
    "                    \n",
    "                    \n",
    "                                                         Θ(n) \n",
    "                    "
   ]
  },
  {
   "cell_type": "markdown",
   "metadata": {},
   "source": [
    "Best Case Analysis (Bogus) \n",
    "\n",
    "\n",
    "In the best case analysis, we calculate lower bound on running time of an algorithm. We must know the case that causes minimum number of operations to be executed. In the linear search problem, the best case occurs when x is present at the first location. The number of operations in the best case is constant (not dependent on n). So time complexity in the best case would be Θ(1)\n",
    "Most of the times, we do worst case analysis to analyze algorithms. In the worst analysis, we guarantee an upper bound on the running time of an algorithm which is good information.\n",
    "The average case analysis is not easy to do in most of the practical cases and it is rarely done. In the average case analysis, we must know (or predict) the mathematical distribution of all possible inputs.\n",
    "The Best Case analysis is bogus. Guaranteeing a lower bound on an algorithm doesn’t provide any information as in the worst case, an algorithm may take years to run.\n",
    "\n",
    "For some algorithms, all the cases are asymptotically same, i.e., there are no worst and best cases. For example, Merge Sort. Merge Sort does Θ(nLogn) operations in all cases. Most of the other sorting algorithms have worst and best cases. For example, in the typical implementation of Quick Sort (where pivot is chosen as a corner element), the worst occurs when the input array is already sorted and the best occur when the pivot elements always divide array in two halves. For insertion sort, the worst case occurs when the array is reverse sorted and the best case occurs when the array is sorted in the same order as output."
   ]
  },
  {
   "cell_type": "markdown",
   "metadata": {},
   "source": [
    "# Analysis of Algorithms | Set 3 (Asymptotic Notations)\n",
    "We have discussed Asymptotic Analysis, and Worst, Average and Best Cases of Algorithms. The main idea of asymptotic analysis is to have a measure of efficiency of algorithms that doesn’t depend on machine specific constants, and doesn’t require algorithms to be implemented and time taken by programs to be compared. Asymptotic notations are mathematical tools to represent time complexity of algorithms for asymptotic analysis. The following 3 asymptotic notations are mostly used to represent time complexity of algorithms.\n",
    "\n",
    "### n1) Θ Notation: \n",
    "The theta notation bounds a functions from above and below, so it defines exact asymptotic behavior.\n",
    "\n",
    "A simple way to get Theta notation of an expression is to drop low order terms and ignore leading constants. For example, consider the following expression.\n",
    "\n",
    "3n3 + 6n2 + 6000 = Θ(n3)\n",
    "\n",
    "Dropping lower order terms is always fine because there will always be a n0 after which Θ(n3) has higher values than Θn2) irrespective of the constants involved.\n",
    "\n",
    "For a given function g(n), we denote Θ(g(n)) is following set of functions.\n",
    "\n",
    "Θ(g(n)) = {f(n): there exist positive constants c1, c2 and n0 such \n",
    "\n",
    "                 that 0 <= c1*g(n) <= f(n) <= c2*g(n) for all n >= n0}\n",
    "                 \n",
    "The above definition means, if f(n) is theta of g(n), then the value f(n) is always between c1*g(n) and c2*g(n) for large values of n (n >= n0). The definition of theta also requires that f(n) must be non-negative for values of n greater than n0.\n",
    "<img src=\"https://cdncontribute.geeksforgeeks.org/wp-content/uploads/AlgoAnalysis-1.png\">\n",
    "\n",
    "### n2) Big O Notation:\n",
    "The Big O notation defines an upper bound of an algorithm, it bounds a function only from above. For example, consider the case of Insertion Sort. It takes linear time in best case and quadratic time in worst case. We can safely say that the time complexity of Insertion sort is O(n^2). Note that O(n^2) also covers linear time.\n",
    "\n",
    "If we use Θ notation to represent time complexity of Insertion sort, we have to use two statements for best and worst cases:\n",
    "\n",
    "1. The worst case time complexity of Insertion Sort is Θ(n^2).\n",
    "\n",
    "2. The best case time complexity of Insertion Sort is Θ(n).\n",
    "\n",
    "The Big O notation is useful when we only have upper bound on time complexity of an algorithm. Many times we easily find an upper bound by simply looking at the algorithm.\n",
    "\n",
    "O(g(n)) = { f(n): there exist positive constants c and \n",
    "\n",
    "                  n0 such that 0 <= f(n) <= c*g(n) for \n",
    "                  \n",
    "                  all n >= n0}\n",
    "                \n",
    "<img src=\"https://cdncontribute.geeksforgeeks.org/wp-content/uploads/AlgoAnalysis-2.png\">\n",
    "\n",
    "### n3) Ω Notation: \n",
    "Just as Big O notation provides an asymptotic upper bound on a function, Ω notation provides an asymptotic lower bound.\n",
    "\n",
    "Ω Notation can be useful when we have lower bound on time complexity of an algorithm. As discussed in the previous post, the best case performance of an algorithm is generally not useful, the Omega notation is the least used notation among all three.\n",
    "\n",
    "For a given function g(n), we denote by Ω(g(n)) the set of functions.\n",
    "\n",
    "Ω (g(n)) = {f(n): there exist positive constants c and\n",
    "\n",
    "                  n0 such that 0 <= c*g(n) <= f(n) for\n",
    "                  \n",
    "                  all n >= n0}.\n",
    "                  \n",
    "Let us consider the same Insertion sort example here. The time complexity of Insertion Sort can be written as Ω(n), but it is not a very useful information about insertion sort, as we are generally interested in worst case and sometimes in average case.\n",
    "<img src=\"https://cdncontribute.geeksforgeeks.org/wp-content/uploads/AlgoAnalysis-3.png\">"
   ]
  },
  {
   "cell_type": "code",
   "execution_count": null,
   "metadata": {},
   "outputs": [],
   "source": []
  }
 ],
 "metadata": {
  "kernelspec": {
   "display_name": "Python 3",
   "language": "python",
   "name": "python3"
  },
  "language_info": {
   "codemirror_mode": {
    "name": "ipython",
    "version": 3
   },
   "file_extension": ".py",
   "mimetype": "text/x-python",
   "name": "python",
   "nbconvert_exporter": "python",
   "pygments_lexer": "ipython3",
   "version": "3.7.1"
  }
 },
 "nbformat": 4,
 "nbformat_minor": 2
}
