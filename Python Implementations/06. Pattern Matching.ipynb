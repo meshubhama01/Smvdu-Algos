{
 "cells": [
  {
   "cell_type": "markdown",
   "metadata": {},
   "source": [
    "# Pattern Searching\n",
    "The Pattern Searching algorithms are sometimes also referred to as String Searching Algorithms and are considered as a part of the String algorithms. These algorithms are useful in the case of searching a string within another string.\n",
    "<img src=\"https://media.geeksforgeeks.org/wp-content/cdn-uploads/Pattern-Searching-2-1.png\">"
   ]
  },
  {
   "cell_type": "markdown",
   "metadata": {},
   "source": [
    "# 001. Naive algorithm for Pattern Searching\n",
    "Given a text txt[0..n-1] and a pattern pat[0..m-1], write a function search(char pat[], char txt[]) that prints all occurrences of pat[] in txt[]. You may assume that n > m.\n",
    "Examples:\n",
    "\n",
    "Input:  txt[] = \"THIS IS A TEST TEXT\"\n",
    "        pat[] = \"TEST\"\n",
    "        \n",
    "Output: Pattern found at index 10\n",
    "\n",
    "Input:  txt[] =  \"AABAACAADAABAABA\"\n",
    "\n",
    "        pat[] =  \"AABA\"\n",
    "        \n",
    "Output: \n",
    "\n",
    "        Pattern found at index 0\n",
    "\n",
    "        Pattern found at index 9\n",
    "        \n",
    "        Pattern found at index 12\n",
    "        \n",
    "<img src=\"https://media.geeksforgeeks.org/wp-content/cdn-uploads/Pattern-Searching-2-1.png\">\n",
    "\n",
    "Pattern searching is an important problem in computer science. When we do search for a string in notepad/word file or browser or database, pattern searching algorithms are used to show the search results.\n",
    "\n",
    "### Naive Pattern Searching:\n",
    "Slide the pattern over text one by one and check for a match. If a match is found, then slides by 1 again to check for subsequent matches."
   ]
  },
  {
   "cell_type": "code",
   "execution_count": 1,
   "metadata": {},
   "outputs": [],
   "source": [
    "# Python3 program for Naive Pattern \n",
    "# Searching algorithm \n",
    "def search(pat, txt): \n",
    "    M = len(pat) \n",
    "    N = len(txt) \n",
    "  \n",
    "    # A loop to slide pat[] one by one */ \n",
    "    for i in range(N - M + 1): \n",
    "        j = 0\n",
    "          \n",
    "        # For current index i, check  \n",
    "        # for pattern match */ \n",
    "        while(j < M): \n",
    "            if (txt[i + j] != pat[j]): \n",
    "                break\n",
    "            j += 1\n",
    "  \n",
    "        if (j == M):  \n",
    "            print(\"Pattern found at index \", i) \n",
    "  "
   ]
  },
  {
   "cell_type": "code",
   "execution_count": 3,
   "metadata": {},
   "outputs": [
    {
     "name": "stdout",
     "output_type": "stream",
     "text": [
      "Pattern found at index  0\n",
      "Pattern found at index  7\n"
     ]
    }
   ],
   "source": [
    "txt = 'abracadabra'\n",
    "pat = 'ab'\n",
    "search(pat, txt) "
   ]
  },
  {
   "cell_type": "markdown",
   "metadata": {},
   "source": [
    "### What is the best case?\n",
    "The best case occurs when the first character of the pattern is not present in text at all.\n",
    "\n",
    "filter_none\n",
    "\n",
    "brightness_4\n",
    "\n",
    "txt[] = \"AABCCAADDEE\"; \n",
    "\n",
    "pat[] = \"FAA\";\n",
    "\n",
    "The number of comparisons in best case is O(n).\n",
    "\n",
    "### What is the worst case ?\n",
    "The worst case of Naive Pattern Searching occurs in following scenarios.\n",
    "\n",
    "1) When all characters of the text and pattern are same.\n",
    "\n",
    "\n",
    "\n",
    "txt[] = \"AAAAAAAAAAAAAAAAAA\";\n",
    "\n",
    "pat[] = \"AAAAA\";\n",
    "\n",
    "2) Worst case also occurs when only the last character is different.\n",
    "\n",
    "\n",
    "\n",
    "txt[] = \"AAAAAAAAAAAAAAAAAB\"; \n",
    "\n",
    "pat[] = \"AAAAB\";\n",
    "\n",
    "\n",
    "The number of comparisons in the worst case is O(m*(n-m+1)). Although strings which have repeated characters are not likely to appear in English text, they may well occur in other applications (for example, in binary texts). The KMP matching algorithm improves the worst case to O(n). We will be covering KMP in the next post. Also, we will be writing more posts to cover all pattern searching algorithms and data structures."
   ]
  },
  {
   "cell_type": "code",
   "execution_count": null,
   "metadata": {},
   "outputs": [],
   "source": []
  }
 ],
 "metadata": {
  "kernelspec": {
   "display_name": "Python 3",
   "language": "python",
   "name": "python3"
  },
  "language_info": {
   "codemirror_mode": {
    "name": "ipython",
    "version": 3
   },
   "file_extension": ".py",
   "mimetype": "text/x-python",
   "name": "python",
   "nbconvert_exporter": "python",
   "pygments_lexer": "ipython3",
   "version": "3.7.1"
  }
 },
 "nbformat": 4,
 "nbformat_minor": 2
}
