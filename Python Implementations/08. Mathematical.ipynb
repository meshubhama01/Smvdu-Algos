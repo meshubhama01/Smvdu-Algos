{
 "cells": [
  {
   "cell_type": "markdown",
   "metadata": {},
   "source": [
    "# 001. Program to find LCM of two numbers\n",
    "\n",
    "<img src=\"https://www.geeksforgeeks.org/wp-content/uploads/LCM-of-two-numbers-768x384.png\">\n",
    "LCM (Least Common Multiple) of two numbers is the smallest number which can be divided by both numbers.\n",
    "For example LCM of 15 and 20 is 60 and LCM of 5 and 7 is 35.\n",
    "\n",
    "Recommended: Please solve it on “PRACTICE ” first, before moving on to the solution.\n",
    "A simple solution is to find all prime factors of both numbers, then find union of all factors present in both numbers. Finally return product of elements in union.\n",
    "\n",
    "An efficient solution is based on below formula for LCM of two numbers ‘a’ and ‘b’.\n",
    "\n",
    "   a x b = LCM(a, b) * GCD (a, b)\n",
    "\n",
    "   LCM(a, b) = (a x b) / GCD(a, b) \n",
    "We have discussed function to find GCD of two numbers. Using GCD, we can find LCM.\n",
    "\n",
    "Below is the implementation of above idea :"
   ]
  },
  {
   "cell_type": "code",
   "execution_count": 2,
   "metadata": {},
   "outputs": [
    {
     "name": "stdout",
     "output_type": "stream",
     "text": [
      "LCM of 15 and 20 is 60\n"
     ]
    }
   ],
   "source": [
    "# Python program to find LCM of two numbers \n",
    "  \n",
    "# Recursive function to return gcd of a and b \n",
    "def gcd(a,b): \n",
    "    if a == 0: \n",
    "        return b \n",
    "    return gcd(b % a, a) \n",
    "  \n",
    "# Function to return LCM of two numbers \n",
    "def lcm(a,b): \n",
    "    return (a*b) // gcd(a,b)\n",
    "  \n",
    "# Driver program to test above function \n",
    "a = 15 \n",
    "b = 20\n",
    "print('LCM of', a, 'and', b, 'is', lcm(a, b)) "
   ]
  },
  {
   "cell_type": "markdown",
   "metadata": {},
   "source": [
    "# 002. LCM of given array elements\n",
    "Given an array of n numbers, find LCM of it.\n",
    "\n",
    "Input : {1, 2, 8, 3}\n",
    "Output : 24\n",
    "\n",
    "Input : {2, 7, 3, 9, 4}\n",
    "Output : 252\n",
    "\n",
    "We know,\n",
    " LCM(a, b)=\\frac{a*b}{gcd(a, b)}\n",
    " \n",
    "The above relation only holds for two numbers,\n",
    "\n",
    " LCM(a, b, c)\\neq \\frac{a*b*c}{gcd(a, b, c)}\n",
    "\n",
    "The idea here is to extend our relation for more than 2 numbers. Let’s say we have an array arr[] that contains n elements whose LCM needed to be calculated.\n",
    "\n",
    "The main steps of our algorithm are:\n",
    "\n",
    "Initialize ans = arr[0].\n",
    "Iterate over all the elements of the array i.e. from i = 1 to i = n-1\n",
    "At the ith iteration ans = LCM(arr[0], arr[1], …….., arr[i-1]). This can be done easily as LCM(arr[0], arr[1], …., arr[i]) = LCM(ans, arr[i]). Thus at i’th iteration we just have to do ans = LCM(ans, arr[i]) = ans x arr[i] / gcd(ans, arr[i])\n",
    "Below is the implementation of above algorithm :"
   ]
  },
  {
   "cell_type": "code",
   "execution_count": 5,
   "metadata": {},
   "outputs": [
    {
     "name": "stdout",
     "output_type": "stream",
     "text": [
      "252\n"
     ]
    }
   ],
   "source": [
    "# Python Program to find LCM of n elements \n",
    "  \n",
    "def find_lcm(num1, num2): \n",
    "    if(num1>num2): \n",
    "        num = num1 \n",
    "        den = num2 \n",
    "    else: \n",
    "        num = num2 \n",
    "        den = num1 \n",
    "    rem = num % den \n",
    "    while(rem != 0): \n",
    "        num = den \n",
    "        den = rem \n",
    "        rem = num % den \n",
    "    gcd = den \n",
    "    lcm = int(int(num1 * num2)/int(gcd)) \n",
    "    return lcm \n",
    "      \n",
    "l = [2, 7, 3, 9, 4] \n",
    "  \n",
    "num1 = l[0] \n",
    "num2 = l[1] \n",
    "lcm = find_lcm(num1, num2) \n",
    "  \n",
    "for i in range(2, len(l)): \n",
    "    lcm = find_lcm(lcm, l[i]) \n",
    "      \n",
    "print(lcm) "
   ]
  },
  {
   "cell_type": "markdown",
   "metadata": {},
   "source": [
    "# 003. GCD of more than two (or array) numbers\n",
    "Given an array of numbers, find GCD of the array elements. In a previous post we find GCD of two number.\n",
    "\n",
    "Examples:\n",
    "\n",
    "Input  : arr[] = {1, 2, 3}\n",
    "Output : 1\n",
    "\n",
    "Input  : arr[] = {2, 4, 6, 8}\n",
    "Output : 2\n",
    "\n",
    "The GCD of three or more numbers equals the product of the prime factors common to all the numbers, but it can also be calculated by repeatedly taking the GCDs of pairs of numbers.\n",
    "\n",
    "gcd(a, b, c) = gcd(a, gcd(b, c)) \n",
    "             = gcd(gcd(a, b), c) \n",
    "             = gcd(gcd(a, c), b)\n",
    "For an array of elements, we do following.\n",
    "\n",
    "result = arr[0]\n",
    "For i = 1 to n-1\n",
    "   result = GCD(result, arr[i])\n",
    "Below is the implementation of above idea."
   ]
  },
  {
   "cell_type": "code",
   "execution_count": 3,
   "metadata": {},
   "outputs": [
    {
     "name": "stdout",
     "output_type": "stream",
     "text": [
      "2\n"
     ]
    }
   ],
   "source": [
    "# GCD of more than two (or array) numbers \n",
    "  \n",
    "# Function implements the Euclidian  \n",
    "# algorithm to find H.C.F. of two number \n",
    "def find_gcd(x, y): \n",
    "      \n",
    "    while(y): \n",
    "        x, y = y, x % y \n",
    "      \n",
    "    return x \n",
    "          \n",
    "# Driver Code         \n",
    "l = [2, 4, 6, 8, 16] \n",
    "  \n",
    "num1 = l[0] \n",
    "num2 = l[1] \n",
    "gcd = find_gcd(num1, num2) \n",
    "  \n",
    "for i in range(2, len(l)): \n",
    "    gcd = find_gcd(gcd, l[i]) \n",
    "      \n",
    "print(gcd) "
   ]
  },
  {
   "cell_type": "markdown",
   "metadata": {},
   "source": [
    "# 004. Euclidean algorithms (Basic and Extended)\n",
    "GCD of two numbers is the largest number that divides both of them. A simple way to find GCD is to factorize both numbers and multiply common factors.\n",
    "<img src=\"https://www.geeksforgeeks.org/wp-content/uploads/GCD-1.jpg\">\n",
    "Basic Euclidean Algorithm for GCD\n",
    "The algorithm is based on below facts.\n",
    "\n",
    "If we subtract smaller number from larger (we reduce larger number), GCD doesn’t change. So if we keep subtracting repeatedly the larger of two, we end up with GCD.\n",
    "Now instead of subtraction, if we divide smaller number, the algorithm stops when we find remainder 0.\n",
    "Below is a recursive function to evaluate gcd using Euclid’s algorithm."
   ]
  },
  {
   "cell_type": "code",
   "execution_count": 4,
   "metadata": {},
   "outputs": [
    {
     "name": "stdout",
     "output_type": "stream",
     "text": [
      "gcd( 10 , 15 ) =  5\n",
      "gcd( 35 , 10 ) =  5\n",
      "gcd( 31 , 2 ) =  1\n"
     ]
    }
   ],
   "source": [
    "# Python program to demonstrate Basic Euclidean Algorithm \n",
    "# Time Complexity: O(Log min(a, b))\n",
    "  \n",
    "# Function to return gcd of a and b \n",
    "def gcd(a, b):  \n",
    "    if a == 0 : \n",
    "        return b  \n",
    "      \n",
    "    return gcd(b%a, a) \n",
    "  \n",
    "a = 10\n",
    "b = 15\n",
    "print(\"gcd(\", a , \",\" , b, \") = \", gcd(a, b)) \n",
    "  \n",
    "a = 35\n",
    "b = 10\n",
    "print(\"gcd(\", a , \",\" , b, \") = \", gcd(a, b)) \n",
    "  \n",
    "a = 31\n",
    "b = 2\n",
    "print(\"gcd(\", a , \",\" , b, \") = \", gcd(a, b)) "
   ]
  },
  {
   "cell_type": "markdown",
   "metadata": {},
   "source": [
    "## Extended Euclidean Algorithm: \n",
    "Extended Euclidean algorithm also finds integer coefficients x and y such that:\n",
    "\n",
    "  ax + by = gcd(a, b) "
   ]
  },
  {
   "cell_type": "markdown",
   "metadata": {},
   "source": [
    "Examples:\n",
    "\n",
    "Input: a = 30, b = 20\n",
    "Output: gcd = 10\n",
    "        x = 1, y = -1\n",
    "(Note that 30*1 + 20*(-1) = 10)\n",
    "\n",
    "Input: a = 35, b = 15\n",
    "Output: gcd = 5\n",
    "        x = 1, y = -2\n",
    "(Note that 35*1 + 15*(-2) = 5)\n",
    "The extended Euclidean algorithm updates results of gcd(a, b) using the results calculated by recursive call gcd(b%a, a). Let values of x and y calculated by the recursive call be x1 and y1. x and y are updated using the below expressions.\n",
    "\n",
    "\n",
    "x = y1 - ⌊b/a⌋ * x1\n",
    "\n",
    "y = x1"
   ]
  },
  {
   "cell_type": "code",
   "execution_count": 5,
   "metadata": {},
   "outputs": [
    {
     "name": "stdout",
     "output_type": "stream",
     "text": [
      "gcd( 35 , 15 ) =  (((5, -2.0, 1), -1.3333333333333335, 1), 0.5714285714285714, 1)\n"
     ]
    }
   ],
   "source": [
    "# Python program to demonstrate working of extended \n",
    "# Euclidean Algorithm \n",
    "  \n",
    "# function for extended Euclidean Algorithm \n",
    "def gcdExtended(a, b, x, y): \n",
    "    # Base Case \n",
    "    if a == 0 :  \n",
    "        x = 0\n",
    "        y = 1\n",
    "        return b \n",
    "          \n",
    "    x1 = 1\n",
    "    y1 = 1 # To store results of recursive call \n",
    "    gcd = gcdExtended(b%a, a, x1, y1) \n",
    "  \n",
    "    # Update x and y using results of recursive \n",
    "    # call \n",
    "    x = y1 - (b/a) * x1 \n",
    "    y = x1 \n",
    "  \n",
    "    return gcd\n",
    "  \n",
    "  \n",
    "x = 1\n",
    "y = 1\n",
    "a = 35\n",
    "b = 15\n",
    "g = gcdExtended(a, b, x, y) \n",
    "print(\"gcd(\", a , \",\" , b, \") = \", g) # lookout for anomaly in comments"
   ]
  },
  {
   "cell_type": "code",
   "execution_count": 4,
   "metadata": {},
   "outputs": [
    {
     "data": {
      "text/plain": [
       "1"
      ]
     },
     "execution_count": 4,
     "metadata": {},
     "output_type": "execute_result"
    }
   ],
   "source": [
    "x"
   ]
  },
  {
   "cell_type": "markdown",
   "metadata": {},
   "source": [
    "## How does Extended Algorithm Work?\n",
    "\n",
    "As seen above, x and y are results for inputs a and b,\n",
    "   a.x + b.y = gcd                      ----(1)  \n",
    "\n",
    "And x1 and y1 are results for inputs b%a and a\n",
    "   (b%a).x1 + a.y1 = gcd   \n",
    "                    \n",
    "When we put b%a = (b - (⌊b/a⌋).a) in above, \n",
    "we get following. Note that ⌊b/a⌋ is floor(a/b)\n",
    "\n",
    "   (b - (⌊b/a⌋).a).x1 + a.y1  = gcd\n",
    "\n",
    "Above equation can also be written as below\n",
    "   b.x1 + a.(y1 - (⌊b/a⌋).x1) = gcd      ---(2)\n",
    "\n",
    "After comparing coefficients of 'a' and 'b' in (1) and \n",
    "(2), we get following\n",
    "   x = y1 - ⌊b/a⌋ * x1\n",
    "   y = x1 \n",
    "   \n",
    "## How is Extended Algorithm Useful?\n",
    "The extended Euclidean algorithm is particularly useful when a and b are coprime (or gcd is 1). Since x is the modular multiplicative inverse of “a modulo b”, and y is the modular multiplicative inverse of “b modulo a”. In particular, the computation of the modular multiplicative inverse is an essential step in RSA public-key encryption method."
   ]
  },
  {
   "cell_type": "code",
   "execution_count": 10,
   "metadata": {},
   "outputs": [
    {
     "name": "stdout",
     "output_type": "stream",
     "text": [
      "gcd( 35 , 15 ) =  5\n",
      "Coefficients =  1   -2\n"
     ]
    }
   ],
   "source": [
    "# Python program to demonstrate working of extended\n",
    "# Euclidean Algorithm\n",
    "# last code was not functional as python does not use referentials\n",
    "# function for extended Euclidean Algorithm\n",
    "def egcd(a, b):\n",
    "    if a == 0:\n",
    "        return (b, 0, 1)\n",
    "    else:\n",
    "        g, y, x = egcd(b % a, a)\n",
    "        return (g, x - (b // a) * y, y)\n",
    "\n",
    "\n",
    "x = 1\n",
    "y = 1\n",
    "a = 35\n",
    "b = 15\n",
    "g,x,y = egcd(a, b)\n",
    "print(\"gcd(\", a , \",\" , b, \") = \", g)\n",
    "print(\"Coefficients = \",x,\" \",y)\n",
    "\n"
   ]
  },
  {
   "cell_type": "markdown",
   "metadata": {},
   "source": [
    "# 005. Product of given N fractions in reduced form\n",
    "Given the Numerator and Denominator of N fractions. The task is to find the product of N fraction and output the answer in reduced form.\n",
    "\n",
    "Examples:\n",
    "\n",
    "Input : N = 3\n",
    "        num[] = { 1, 2, 5 }\n",
    "        den[] = { 2, 1, 6 }\n",
    "Output : 5/6\n",
    "Product of 1/2 * 2/1 * 5/6 is 10/12.\n",
    "Reduced form of 10/12 is 5/6.\n",
    "\n",
    "Input : N = 4\n",
    "        num[] = { 1, 2, 5, 9 }\n",
    "        den[] = { 2, 1, 6, 27 }\n",
    "Output : 5/18\n",
    "\n",
    "The idea is to find the product of Numerator in a variable, say new_num. Now, find the product of Denominator in another variable, say new_den.\n",
    "Now, to find the answer in Reduced form, find the Greatest Common Divisor of new_num and new_den and divide the new_num and new_den by the calculated GCD.\n",
    "\n",
    "Below is the implementation of this approach:"
   ]
  },
  {
   "cell_type": "code",
   "execution_count": 19,
   "metadata": {},
   "outputs": [
    {
     "name": "stdout",
     "output_type": "stream",
     "text": [
      "5 / 6\n"
     ]
    }
   ],
   "source": [
    "# Function to return  \n",
    "# gcd of a and b\n",
    "from functools import reduce\n",
    "\n",
    "def gcd(a, b): \n",
    "    if (a == 0): \n",
    "        return b; \n",
    "    return gcd(b % a, a); \n",
    "  \n",
    "# Print the Product of N  \n",
    "# fraction in Reduced Form. \n",
    "def productReduce(n, num, den): \n",
    "    new_num = 1; \n",
    "    new_den = 1; \n",
    "      \n",
    "    # finding the product  \n",
    "    # of all N numerators \n",
    "    # and denominators. \n",
    "    #for i in range(n): \n",
    "        #new_num = new_num * num[i]; \n",
    "        #new_den = new_den * den[i]; \n",
    "    new_num=reduce(lambda x,y:x*y,num,1)\n",
    "    new_den=reduce(lambda x,y:x*y,den,1)\n",
    "      \n",
    "    # Finding GCD of  \n",
    "    # new numerator  \n",
    "    # and denominator \n",
    "    GCD = gcd(new_num, new_den); \n",
    "      \n",
    "    # Converting into \n",
    "    # reduced form. \n",
    "    new_num = new_num / GCD; \n",
    "    new_den = new_den / GCD; \n",
    "      \n",
    "    print(int(new_num), \"/\",  \n",
    "              int(new_den)); \n",
    "  \n",
    "# Driver Code \n",
    "n = 3; \n",
    "num = [1, 2, 5]; \n",
    "den = [2, 1, 6]; \n",
    "productReduce(n, num, den); "
   ]
  },
  {
   "cell_type": "markdown",
   "metadata": {},
   "source": [
    "How to avoid overflow?\n",
    "The above solution causes overflow for large numbers. We can avoid overflow by first finding prime factors of all numerators and denominators. Once we have found prime factors, we can cancel common prime factors.\n",
    "\n",
    "Note : When you are asked to represent the answer in form of {P \\times {Q} ^ {-1}} .\n",
    "For these questions, first convert the numerator and denominator in reducible form P / Q as explained above. Then, find modular multiplicative inverse of Q with respect to a prime number m (Generally, 10^9 + 7) which is given in question. After finding modular multiplicative inverse of Q, multiply it with P and take modulo with given prime number m which gives us our required output."
   ]
  },
  {
   "cell_type": "markdown",
   "metadata": {},
   "source": [
    "# 006. GCD of two numbers when one of them can be very large\n",
    "Given two numbers ‘a’ and ‘b’ such that (0 <= a <= 10^12 and b <= b < 10^250). Find the GCD of two given numbers.\n",
    "\n",
    "Examples :\n",
    "\n",
    "Input: a = 978 \n",
    "       b = 89798763754892653453379597352537489494736\n",
    "Output: 6\n",
    "\n",
    "Input: a = 1221 \n",
    "       b = 1234567891011121314151617181920212223242526272829\n",
    "Output: 3\n",
    "\n",
    "Solution : In the given problem, we can see that first number ‘a’ can be handled by long long int data type but second number ‘b’ can not be handled by any int data type. Here we read second number as a string and we will try to make it less than and equal to ‘a’ by taking it’s modulo with ‘a’.\n",
    "\n",
    "Below is implementation of the above idea."
   ]
  },
  {
   "cell_type": "code",
   "execution_count": 20,
   "metadata": {},
   "outputs": [
    {
     "name": "stdout",
     "output_type": "stream",
     "text": [
      "3\n"
     ]
    }
   ],
   "source": [
    "# Function to find gcd \n",
    "# of two integer numbers \n",
    "def gcd(a, b) : \n",
    "      \n",
    "    if (a == 0) : \n",
    "        return b \n",
    "          \n",
    "    return gcd(b % a, a) \n",
    "  \n",
    "# Here 'a' is integer and 'b' is string. \n",
    "# The idea is to make the second number \n",
    "# (represented as b) less than and equal \n",
    "# to first number by calculating its mod \n",
    "# with first integer number using basic \n",
    "# mathematics \n",
    "def reduceB(a, b) : \n",
    "      \n",
    "    # Initialize result \n",
    "    mod = 0\n",
    "  \n",
    "    # Calculating mod of b with a  \n",
    "    # to make b like 0 <= b < a \n",
    "    for i in range(0, len(b)) : \n",
    "          \n",
    "        mod = (mod * 10 + ord(b[i])) % a \n",
    "  \n",
    "    return mod      # return modulo \n",
    "  \n",
    "  \n",
    "# This function returns GCD of \n",
    "# 'a' and 'b' where b can be \n",
    "# very large and is represented \n",
    "# as a character array or string \n",
    "def gcdLarge(a, b) : \n",
    "      \n",
    "    # Reduce 'b' (second number) \n",
    "    # after modulo with a \n",
    "    num = reduceB(a, b) \n",
    "  \n",
    "    # gcd of two numbers \n",
    "    return gcd(a, num) \n",
    "  \n",
    "  \n",
    "# Driver program \n",
    "  \n",
    "# First number which is integer \n",
    "a = 1221\n",
    "  \n",
    "# Second number is represented \n",
    "# as string because it can not \n",
    "# be handled by integer data type \n",
    "b = \"1234567891011121314151617181920212223242526272829\"\n",
    "  \n",
    "print(gcdLarge(a, b)) "
   ]
  },
  {
   "cell_type": "markdown",
   "metadata": {},
   "source": [
    "Think of say a number 2586%11.\n",
    "\n",
    "Well b[i]-'0' is done to bring char type b[i] to int and mod*10 is done so that 10 is continuously multiplied so that first for a number 2586 we get 2 then 20 then 200 and then 2000.(just for example,this won`t be exactly this in loop)\n",
    "\n",
    "I am asserting in a backward of the way as provided by above method just backward.\n",
    "This is same as (2000+500+80+6)%11\n",
    "By use of theorem(x+y)%z=(x%z+y%z)%z , we have(2000%11 + 500%11 + 80%11 +6%11)%11.\n",
    "So in the loop(opposite of the soln provided in G4G)\n",
    "\n",
    "1. 6%11=6 then\n",
    "2. (80 + 6)%11=9 then\n",
    "3. (500 + 9)%11=3 then\n",
    "4.(2000+3)%11=1.\n",
    "and 2586%11 is also 1.\n",
    "\n",
    "That`s it we are accumulating in a for loop gradually what we could have simply done by calculating 2586%11 but the fact is that we can`t store a very large number in long int and\n",
    "so we are doing it periodically."
   ]
  },
  {
   "cell_type": "markdown",
   "metadata": {},
   "source": [
    "# 007. Stein’s Algorithm for finding GCD\n",
    "Stein’s algorithm or binary GCD algorithm is an algorithm that computes the greatest common divisor of two non-negative integers. Stein’s algorithm replaces division with arithmetic shifts, comparisons, and subtraction.\n",
    "\n",
    "Examples:\n",
    "\n",
    "Input: a = 17, b = 34 \n",
    "Output : 17\n",
    "\n",
    "Input: a = 50, b = 49\n",
    "Output: 1\n",
    "Algorithm to find GCD using Stein’s algorithm gcd(a, b)\n",
    "\n",
    "If both a and b are 0, gcd is zero gcd(0, 0) = 0.\n",
    "\n",
    "gcd(a, 0) = a and gcd(0, b) = b because everything divides 0.\n",
    "\n",
    "If a and b are both even, gcd(a, b) = 2*gcd(a/2, b/2) because 2 is a common divisor. Multiplication with 2 can be done with bitwise shift operator.\n",
    "\n",
    "If a is even and b is odd, gcd(a, b) = gcd(a/2, b). \n",
    "Similarly, if a is odd and b is even, then\n",
    "gcd(a, b) = gcd(a, b/2). It is because 2 is not a common divisor.\n",
    "\n",
    "If both a and b are odd, then gcd(a, b) = gcd(|a-b|/2, b). \n",
    "Note that difference of two odd numbers is even\n",
    "Repeat steps 3–5 until a = b, or until a = 0. \n",
    "\n",
    "In either case, the GCD is power(2, k) * b, where power(2, k) is 2 raise to the power of k and k is the number of common factors of 2 found in step 2."
   ]
  },
  {
   "cell_type": "code",
   "execution_count": 21,
   "metadata": {},
   "outputs": [
    {
     "name": "stdout",
     "output_type": "stream",
     "text": [
      "Gcd of given numbers is  17\n"
     ]
    }
   ],
   "source": [
    "def gcd(a, b) : \n",
    "  \n",
    "    # GCD(0, b) == b; GCD(a, 0) == a, \n",
    "    # GCD(0, 0) == 0  \n",
    "    if (a == 0) : \n",
    "        return b \n",
    "      \n",
    "    if (b == 0) : \n",
    "        return a \n",
    "  \n",
    "    # Finding K, where K is the  \n",
    "    # greatest power of 2 that  \n",
    "    # divides both a and b.  \n",
    "    k = 0\n",
    "      \n",
    "    while(((a | b) & 1) == 0) : \n",
    "        a = a >> 1\n",
    "        b = b >> 1\n",
    "        k = k + 1\n",
    "          \n",
    "    # Dividing a by 2 until a becomes odd  \n",
    "    while ((a & 1) == 0) : \n",
    "        a = a >> 1\n",
    "  \n",
    "    # From here on, 'a' is always odd.  \n",
    "    while(b != 0) : \n",
    "          \n",
    "        # If b is even, remove all  \n",
    "        # factor of 2 in b  \n",
    "        while ((b & 1) == 0) : \n",
    "            b = b >> 1\n",
    "  \n",
    "        # Now a and b are both odd. Swap if \n",
    "        # necessary so a <= b, then set  \n",
    "        # b = b - a (which is even). \n",
    "        if (a > b) : \n",
    "          \n",
    "            # Swap u and v. \n",
    "            temp = a \n",
    "            a = b \n",
    "            b = temp \n",
    "  \n",
    "        b = (b - a) \n",
    "      \n",
    "    # restore common factors of 2  \n",
    "    return (a << k) \n",
    "  \n",
    "# Driver code \n",
    "a = 34\n",
    "b = 17\n",
    "  \n",
    "print(\"Gcd of given numbers is \", gcd(a, b)) "
   ]
  },
  {
   "cell_type": "code",
   "execution_count": 22,
   "metadata": {},
   "outputs": [
    {
     "name": "stdout",
     "output_type": "stream",
     "text": [
      "Gcd of given numbers is  17\n"
     ]
    }
   ],
   "source": [
    "# Recursive Python 3 program to  \n",
    "# implement Stein's Algorithm \n",
    "  \n",
    "# Function to implement  \n",
    "# Stein's Algorithm \n",
    "def gcd(a, b) : \n",
    "      \n",
    "    if (a == b) : \n",
    "        return a \n",
    "  \n",
    "    # GCD(0, b) == b; GCD(a, 0) == a,  \n",
    "    # GCD(0, 0) == 0  \n",
    "    if (a == 0) : \n",
    "        return b \n",
    "  \n",
    "    if (b == 0) : \n",
    "        return a \n",
    "  \n",
    "    # look for factors of 2 \n",
    "    # a is even \n",
    "    if ((~a & 1)== 1 ) :      \n",
    "          \n",
    "        # b is odd \n",
    "        if ((b & 1)== 1) :      \n",
    "            return gcd(a >> 1, b) \n",
    "        else : \n",
    "            # both a and b are even \n",
    "            return (gcd(a >> 1, b >> 1) << 1) \n",
    "      \n",
    "    # a is odd, b is even \n",
    "    if ((~b & 1)== 1) :  \n",
    "        return gcd(a, b >> 1) \n",
    "  \n",
    "    # reduce larger number \n",
    "    if (a > b) : \n",
    "        return gcd((a - b) >> 1, b) \n",
    "  \n",
    "    return gcd((b - a) >> 1, a) \n",
    "  \n",
    "# Driver code \n",
    "a, b = 34, 17\n",
    "print(\"Gcd of given numbers is \",  \n",
    "                       gcd(a, b)) \n",
    "  \n",
    "#O(n**2) "
   ]
  },
  {
   "cell_type": "code",
   "execution_count": null,
   "metadata": {},
   "outputs": [],
   "source": []
  }
 ],
 "metadata": {
  "kernelspec": {
   "display_name": "Python 3",
   "language": "python",
   "name": "python3"
  },
  "language_info": {
   "codemirror_mode": {
    "name": "ipython",
    "version": 3
   },
   "file_extension": ".py",
   "mimetype": "text/x-python",
   "name": "python",
   "nbconvert_exporter": "python",
   "pygments_lexer": "ipython3",
   "version": "3.7.1"
  }
 },
 "nbformat": 4,
 "nbformat_minor": 2
}
