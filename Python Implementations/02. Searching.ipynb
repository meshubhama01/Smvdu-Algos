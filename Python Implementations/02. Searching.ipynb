{
 "cells": [
  {
   "cell_type": "markdown",
   "metadata": {},
   "source": [
    "# Searching Algorithms\n",
    "\n",
    "Searching Algorithms are designed to check for an element or retrieve an element from any data structure where it is stored. Based on the type of search operation, these algorithms are generally classified into two categories:\n",
    "\n",
    "### Sequential Search:\n",
    "In this, the list or array is traversed sequentially and every element is checked. For example: Linear Search.\n",
    "\n",
    "### Interval Search: \n",
    "These algorithms are specifically designed for searching in sorted data-structures. These type of searching algorithms are much more efficient than Linear Search as they repeatedly target the center of the search structure and divide the search space in half. For Example: Binary Search.\n",
    "\n",
    "<img src=\"https://www.geeksforgeeks.org/wp-content/uploads/Linear-Search.png\">\n",
    "<img src=\"https://www.geeksforgeeks.org/wp-content/uploads/Binary-Search.png\">"
   ]
  },
  {
   "cell_type": "markdown",
   "metadata": {},
   "source": [
    "# 001. Linear Search\n",
    "Problem: Given an array arr[] of n elements, write a function to search a given element x in arr[].\n",
    "\n",
    "Examples :\n",
    "\n",
    "Input : arr[] = {10, 20, 80, 30, 60, 50, \n",
    "                     110, 100, 130, 170}\n",
    "          x = 110;\n",
    "Output : 6\n",
    "Element x is present at index 6\n",
    "\n",
    "Input : arr[] = {10, 20, 80, 30, 60, 50, \n",
    "                     110, 100, 130, 170}\n",
    "           x = 175;\n",
    "Output : -1\n",
    "Element x is not present in arr[].\n",
    "\n",
    "A simple approach is to do linear search, i.e\n",
    "\n",
    "Start from the leftmost element of arr[] and one by one compare x with each element of arr[]\n",
    "If x matches with an element, return the index.\n",
    "If x doesn’t match with any of elements, return -1"
   ]
  },
  {
   "cell_type": "code",
   "execution_count": 1,
   "metadata": {},
   "outputs": [
    {
     "name": "stdout",
     "output_type": "stream",
     "text": [
      "Element is present at index 3\n"
     ]
    }
   ],
   "source": [
    "# Python3 code to linearly search x in arr[].  \n",
    "# If x is present then return its location, \n",
    "# otherwise return -1 \n",
    "  \n",
    "def search(arr, n, x): \n",
    "  \n",
    "    for i in range (0, n): \n",
    "        if (arr[i] == x): \n",
    "            return i; \n",
    "    return -1; \n",
    "  \n",
    "# Driver Code \n",
    "arr = [ 2, 3, 4, 10, 40 ]; \n",
    "x = 10; \n",
    "n = len(arr); \n",
    "result = search(arr, n, x) \n",
    "if(result == -1): \n",
    "    print(\"Element is not present in array\") \n",
    "else: \n",
    "    print(\"Element is present at index\", result); "
   ]
  },
  {
   "cell_type": "markdown",
   "metadata": {},
   "source": [
    "# 002. Binary Search\n",
    "Given a sorted array arr[] of n elements, write a function to search a given element x in arr[].\n",
    "A simple approach is to do linear search.The time complexity of above algorithm is O(n). Another approach to perform the same task is using Binary Search.\n",
    "\n",
    "Binary Search: Search a sorted array by repeatedly dividing the search interval in half. Begin with an interval covering the whole array. If the value of the search key is less than the item in the middle of the interval, narrow the interval to the lower half. Otherwise narrow it to the upper half. Repeatedly check until the value is found or the interval is empty.\n",
    "\n",
    "<img src=\"https://www.geeksforgeeks.org/wp-content/uploads/Binary-Search.png\">"
   ]
  },
  {
   "cell_type": "markdown",
   "metadata": {},
   "source": [
    "The idea of binary search is to use the information that the array is sorted and reduce the time complexity to O(Log n).\n",
    "\n",
    "We basically ignore half of the elements just after one comparison.\n",
    "\n",
    "Compare x with the middle element.\n",
    "If x matches with middle element, we return the mid index.\n",
    "Else If x is greater than the mid element, then x can only lie in right half subarray after the mid element. So we recur for right half.\n",
    "Else (x is smaller) recur for the left half."
   ]
  },
  {
   "cell_type": "code",
   "execution_count": 4,
   "metadata": {},
   "outputs": [
    {
     "name": "stdout",
     "output_type": "stream",
     "text": [
      "Element is present at index  3\n"
     ]
    }
   ],
   "source": [
    "# Python Program for recursive binary search. \n",
    "  \n",
    "# Returns index of x in arr if present, else -1 \n",
    "def binarySearch (arr, l, r, x): \n",
    "  \n",
    "    # Check base case \n",
    "    if r >= l: \n",
    "  \n",
    "        mid = l + (r - l)//2\n",
    "  \n",
    "        # If element is present at the middle itself \n",
    "        if arr[mid] == x: \n",
    "            return mid \n",
    "          \n",
    "        # If element is smaller than mid, then it  \n",
    "        # can only be present in left subarray \n",
    "        elif arr[mid] > x: \n",
    "            return binarySearch(arr, l, mid-1, x) \n",
    "  \n",
    "        # Else the element can only be present  \n",
    "        # in right subarray \n",
    "        else: \n",
    "            return binarySearch(arr, mid + 1, r, x) \n",
    "  \n",
    "    else: \n",
    "        # Element is not present in the array \n",
    "        return -1\n",
    "  \n",
    "# Test array \n",
    "arr = [ 2, 3, 4, 10, 40 ] \n",
    "x = 10\n",
    "  \n",
    "# Function call \n",
    "result = binarySearch(arr, 0, len(arr)-1, x) \n",
    "  \n",
    "if result != -1: \n",
    "    print(\"Element is present at index % d\" % result)\n",
    "else: \n",
    "    print(\"Element is not present in array\")"
   ]
  },
  {
   "cell_type": "markdown",
   "metadata": {},
   "source": [
    "# 003. Jump Search\n",
    "Like Binary Search, Jump Search is a searching algorithm for sorted arrays. The basic idea is to check fewer elements (than linear search) by jumping ahead by fixed steps or skipping some elements in place of searching all elements.\n",
    "\n",
    "For example, suppose we have an array arr[] of size n and block (to be jumped) size m. Then we search at the indexes arr[0], arr[m], arr[2m]…..arr[km] and so on. Once we find the interval (arr[km] < x < arr[(k+1)m]), we perform a linear search operation from the index km to find the element x.\n",
    "\n",
    "Let’s consider the following array: (0, 1, 1, 2, 3, 5, 8, 13, 21, 34, 55, 89, 144, 233, 377, 610). \n",
    "\n",
    "Length of the array is 16. Jump search will find the value of 55 with the following steps assuming that the block size to be jumped is 4.\n",
    "STEP 1: Jump from index 0 to index 4;\n",
    "STEP 2: Jump from index 4 to index 8;\n",
    "STEP 3: Jump from index 8 to index 12;\n",
    "STEP 4: Since the element at index 12 is greater than 55 we will jump back a step to come to index 8.\n",
    "STEP 5: Perform linear search from index 8 to get the element 55.\n",
    "\n",
    "### What is the optimal block size to be skipped?\n",
    "In the worst case, we have to do n/m jumps and if the last checked value is greater than the element to be searched for, we perform m-1 comparisons more for linear search. Therefore the total number of comparisons in the worst case will be ((n/m) + m-1). The value of the function ((n/m) + m-1) will be minimum when m = √n. Therefore, the best step size is m = √n."
   ]
  },
  {
   "cell_type": "code",
   "execution_count": 5,
   "metadata": {},
   "outputs": [
    {
     "name": "stdout",
     "output_type": "stream",
     "text": [
      "Number 55 is at index 10\n"
     ]
    }
   ],
   "source": [
    "# Python3 code to implement Jump Search \n",
    "import math \n",
    "  \n",
    "def jumpSearch( arr , x , n ): \n",
    "      \n",
    "    # Finding block size to be jumped \n",
    "    step = math.sqrt(n) \n",
    "      \n",
    "    # Finding the block where element is \n",
    "    # present (if it is present) \n",
    "    prev = 0\n",
    "    while arr[int(min(step, n)-1)] < x: \n",
    "        prev = step \n",
    "        step += math.sqrt(n) \n",
    "        if prev >= n: \n",
    "            return -1\n",
    "      \n",
    "    # Doing a linear search for x in  \n",
    "    # block beginning with prev. \n",
    "    while arr[int(prev)] < x: \n",
    "        prev += 1\n",
    "          \n",
    "        # If we reached next block or end  \n",
    "        # of array, element is not present. \n",
    "        if prev == min(step, n): \n",
    "            return -1\n",
    "      \n",
    "    # If element is found \n",
    "    if arr[int(prev)] == x: \n",
    "        return prev \n",
    "      \n",
    "    return -1\n",
    "  \n",
    "# Driver code to test function \n",
    "arr = [ 0, 1, 1, 2, 3, 5, 8, 13, 21, \n",
    "    34, 55, 89, 144, 233, 377, 610 ] \n",
    "x = 55\n",
    "n = len(arr) \n",
    "  \n",
    "# Find the index of 'x' using Jump Search \n",
    "index = jumpSearch(arr, x, n) \n",
    "  \n",
    "# Print the index where 'x' is located \n",
    "print(\"Number\" , x, \"is at index\" ,\"%.0f\"%index) \n",
    "  "
   ]
  },
  {
   "cell_type": "markdown",
   "metadata": {},
   "source": [
    "Time Complexity : O(√n)\n",
    "Auxiliary Space : O(1)\n",
    "\n",
    "Important points:\n",
    "\n",
    "Works only sorted arrays.\n",
    "The optimal size of a block to be jumped is (√ n). This makes the time complexity of Jump Search O(√ n).\n",
    "The time complexity of Jump Search is between Linear Search ( ( O(n) ) and Binary Search ( O (Log n) ).\n",
    "Binary Search is better than Jump Search, but Jump search has an advantage that we traverse back only once (Binary Search may require up to O(Log n) jumps, consider a situation where the element to be searched is the smallest element or smaller than the smallest). So in a system where binary search is costly, we use Jump Search."
   ]
  },
  {
   "cell_type": "markdown",
   "metadata": {},
   "source": [
    "# 004. Exponential Search\n",
    "The name of this searching algorithm may be misleading as it works in O(Log n) time. The name comes from the way it searches an element.\n",
    "\n",
    "Given a sorted array, and an element x to be \n",
    "searched, find position of x in the array.\n",
    "\n",
    "Input:  arr[] = {10, 20, 40, 45, 55}\n",
    "        x = 45\n",
    "Output: Element found at index 3\n",
    "\n",
    "Input:  arr[] = {10, 15, 25, 45, 55}\n",
    "        x = 15\n",
    "Output: Element found at index 1\n",
    "\n",
    "We have discussed, linear search, binary search for this problem.\n",
    "\n",
    "Exponential search involves two steps:\n",
    "\n",
    "Find range where element is present\n",
    "Do Binary Search in above found range.\n",
    "How to find the range where element may be present?\n",
    "The idea is to start with subarray size 1, compare its last element with x, then try size 2, then 4 and so on until last element of a subarray is not greater.\n",
    "Once we find an index i (after repeated doubling of i), we know that the element must be present between i/2 and i (Why i/2? because we could not find a greater value in previous iteration)\n",
    "\n",
    "Given below are the implementations of above steps."
   ]
  },
  {
   "cell_type": "code",
   "execution_count": 7,
   "metadata": {},
   "outputs": [
    {
     "name": "stdout",
     "output_type": "stream",
     "text": [
      "Element is present at index 3\n"
     ]
    }
   ],
   "source": [
    "# Python program to find an element x \n",
    "# in a sorted array using Exponential Search \n",
    "  \n",
    "# A recurssive binary search function returns  \n",
    "# location  of x in given array arr[l..r] is  \n",
    "# present, otherwise -1 \n",
    "def binarySearch( arr, l, r, x): \n",
    "    if r >= l: \n",
    "        mid = l + ( r-l ) // 2\n",
    "          \n",
    "        # If the element is present at  \n",
    "        # the middle itself \n",
    "        if arr[mid] == x: \n",
    "            return mid \n",
    "          \n",
    "        # If the element is smaller than mid,  \n",
    "        # then it can only be present in the  \n",
    "        # left subarray \n",
    "        if arr[mid] > x: \n",
    "            return binarySearch(arr, l,  \n",
    "                                mid - 1, x) \n",
    "          \n",
    "        # Else he element can only be \n",
    "        # present in the right \n",
    "        return binarySearch(arr, mid + 1, r, x) \n",
    "          \n",
    "    # We reach here if the element is not present \n",
    "    return -1\n",
    "  \n",
    "# Returns the position of first \n",
    "# occurence of x in array \n",
    "def exponentialSearch(arr, n, x): \n",
    "    # IF x is present at first  \n",
    "    # location itself \n",
    "    if arr[0] == x: \n",
    "        return 0\n",
    "          \n",
    "    # Find range for binary search  \n",
    "    # j by repeated doubling \n",
    "    i = 1\n",
    "    while i < n and arr[i] <= x: \n",
    "        i = i * 2\n",
    "      \n",
    "    # Call binary search for the found range \n",
    "    return binarySearch( arr, i // 2,  \n",
    "                         min(i, n), x) \n",
    "      \n",
    "  \n",
    "# Driver Code \n",
    "arr = [2, 3, 4, 10, 40] \n",
    "n = len(arr) \n",
    "x = 10\n",
    "result = exponentialSearch(arr, n, x) \n",
    "if result == -1: \n",
    "    print (\"Element not found in thye array\")\n",
    "else: \n",
    "    print (\"Element is present at index %d\" %(result) )"
   ]
  },
  {
   "cell_type": "markdown",
   "metadata": {},
   "source": [
    "Time Complexity : O(Log n)\n",
    "Auxiliary Space : The above implementation of Binary Search is recursive and requires O(Log n) space. With iterative Binary Search, we need only O(1) space.\n",
    "\n",
    "Applications of Exponential Search:\n",
    "\n",
    "Exponential Binary Search is particularly useful for unbounded searches, where size of array is infinite. Please refer Unbounded Binary Search for an example.\n",
    "It works better than Binary Search for bounded arrays, and also when the element to be searched is closer to the first element."
   ]
  },
  {
   "cell_type": "markdown",
   "metadata": {},
   "source": [
    "# 005. Interpolation Search\n",
    "Given a sorted array of n uniformly distributed values arr[], write a function to search for a particular element x in the array.\n",
    "\n",
    "Linear Search finds the element in O(n) time, Jump Search takes O(√ n) time and Binary Search take O(Log n) time.\n",
    "The Interpolation Search is an improvement over Binary Search for instances, where the values in a sorted array are uniformly distributed. Binary Search always goes to the middle element to check. On the other hand, interpolation search may go to different locations according to the value of the key being searched. For example, if the value of the key is closer to the last element, interpolation search is likely to start search toward the end side.\n",
    "\n",
    "To find the position to be searched, it uses following formula.\n",
    "\n",
    "\n",
    "// The idea of formula is to return higher value of pos\n",
    "// when element to be searched is closer to arr[hi]. And\n",
    "// smaller value when closer to arr[lo]\n",
    "pos = lo + [ (x-arr[lo])*(hi-lo) / (arr[hi]-arr[Lo]) ]\n",
    "\n",
    "arr[] ==> Array where elements need to be searched\n",
    "x     ==> Element to be searched\n",
    "lo    ==> Starting index in arr[]\n",
    "hi    ==> Ending index in arr[]\n",
    "Algorithm\n",
    "Rest of the Interpolation algorithm is the same except the above partition logic.\n",
    "\n",
    "Step1: In a loop, calculate the value of “pos” using the probe position formula.\n",
    "Step2: If it is a match, return the index of the item, and exit.\n",
    "Step3: If the item is less than arr[pos], calculate the probe position of the left sub-array. Otherwise calculate the same in the right sub-array.\n",
    "Step4: Repeat until a match is found or the sub-array reduces to zero.\n",
    "\n",
    "Below is the implementation of algorithm."
   ]
  },
  {
   "cell_type": "code",
   "execution_count": 10,
   "metadata": {},
   "outputs": [
    {
     "name": "stdout",
     "output_type": "stream",
     "text": [
      "Element not found\n"
     ]
    }
   ],
   "source": [
    "# Python program to implement interpolation search \n",
    "  \n",
    "# If x is present in arr[0..n-1], then returns \n",
    "# index of it, else returns -1 \n",
    "def interpolationSearch(arr, n, x): \n",
    "    # Find indexs of two corners \n",
    "    lo = 0\n",
    "    hi = (n - 1) \n",
    "   \n",
    "    # Since array is sorted, an element present \n",
    "    # in array must be in range defined by corner \n",
    "    while lo <= hi and x >= arr[lo] and x <= arr[hi]: \n",
    "        if lo == hi: \n",
    "            if arr[lo] == x:  \n",
    "                return lo; \n",
    "            return -1; \n",
    "          \n",
    "        # Probing the position with keeping \n",
    "        # uniform distribution in mind. \n",
    "        pos  = lo + int(((float(hi - lo) / \n",
    "            ( arr[hi] - arr[lo])) * ( x - arr[lo]))) \n",
    "  \n",
    "        # Condition of target found \n",
    "        if arr[pos] == x: \n",
    "            return pos \n",
    "   \n",
    "        # If x is larger, x is in upper part \n",
    "        if arr[pos] < x: \n",
    "            lo = pos + 1; \n",
    "   \n",
    "        # If x is smaller, x is in lower part \n",
    "        else: \n",
    "            hi = pos - 1; \n",
    "      \n",
    "    return -1\n",
    "  \n",
    "# Driver Code \n",
    "# Array of items oin which search will be conducted \n",
    "arr = [10, 12, 13, 16, 18, 19, 20, 21, \n",
    "                22, 23, 24, 33, 35, 42, 47] \n",
    "n = len(arr) \n",
    "  \n",
    "x = 1 # Element to be searched \n",
    "index = interpolationSearch(arr, n, x) \n",
    "  \n",
    "if index != -1: \n",
    "    print (\"Element found at index\",index )\n",
    "else: \n",
    "    print(\"Element not found\")"
   ]
  },
  {
   "cell_type": "markdown",
   "metadata": {},
   "source": [
    "Time Complexity: If elements are uniformly distributed, then O (log log n)). In worst case it can take upto O(n).\n",
    "Auxiliary Space: O(1)"
   ]
  },
  {
   "cell_type": "code",
   "execution_count": 32,
   "metadata": {},
   "outputs": [
    {
     "name": "stdout",
     "output_type": "stream",
     "text": [
      "100\n",
      "[1, 2, 4, 5, 10, 20, 25, 50, 100]\n",
      "6\n"
     ]
    }
   ],
   "source": [
    "import math  \n",
    "  \n",
    "def printDivisors(n) : \n",
    "    list1 = []  \n",
    "    list2=  []\n",
    "    # List to store half of the divisors \n",
    "    for i in range(1, int(math.sqrt(n))+1) : \n",
    "          \n",
    "        if (n % i == 0 ) : \n",
    "              \n",
    "            # Check if divisors are equal \n",
    "            if (n / i == i) : \n",
    "                list1.append(i) \n",
    "            else : \n",
    "                # Otherwise print both \n",
    "                list1.append(i)\n",
    "                list2.append(int(n / i)) \n",
    "                \n",
    "    \n",
    "    list1.extend(list2[::-1])\n",
    "    \n",
    "    print(list1)\n",
    "    return list1\n",
    "sum1=0\n",
    "for x in printDivisors(int(input().strip())):\n",
    "    if x%2==0:\n",
    "        sum1+=1\n",
    "#print(printDivisors(int(input().strip())))\n",
    "print(sum1)\n",
    "    "
   ]
  },
  {
   "cell_type": "code",
   "execution_count": null,
   "metadata": {},
   "outputs": [],
   "source": []
  }
 ],
 "metadata": {
  "kernelspec": {
   "display_name": "Python 3",
   "language": "python",
   "name": "python3"
  },
  "language_info": {
   "codemirror_mode": {
    "name": "ipython",
    "version": 3
   },
   "file_extension": ".py",
   "mimetype": "text/x-python",
   "name": "python",
   "nbconvert_exporter": "python",
   "pygments_lexer": "ipython3",
   "version": "3.6.8"
  }
 },
 "nbformat": 4,
 "nbformat_minor": 2
}
